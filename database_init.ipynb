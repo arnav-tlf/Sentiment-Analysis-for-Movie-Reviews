{
 "cells": [
  {
   "cell_type": "code",
   "execution_count": 1,
   "id": "862e40d0",
   "metadata": {},
   "outputs": [],
   "source": [
    "import sqlite3\n",
    "\n",
    "connection = sqlite3.connect('database.db',check_same_thread=False)\n",
    "# with open('schema.sql') as f:\n",
    "#     connection.executescript(f.read())\n",
    "cur = connection.cursor()\n",
    "connection.row_factory = sqlite3.Row\n",
    "cur.execute(\"CREATE TABLE IF NOT EXISTS movieReview(ID INTEGER PRIMARY KEY AUTOINCREMENT, Review text,Prediction text, Userfeedback text);\")\n",
    "# cur.execute(\"INSERT INTO movieReview (Review, Prediction) VALUES ('Great movie', 'Positive');\")\n",
    "# print(cur.execute('SELECT * from movieReview').fetchall())\n",
    "\n",
    "def get_connection():\n",
    "\n",
    "    return (connection, cur)\n",
    "\n",
    "def close_connection():\n",
    "    connection.close()"
   ]
  }
 ],
 "metadata": {
  "kernelspec": {
   "display_name": "Python 3 (ipykernel)",
   "language": "python",
   "name": "python3"
  },
  "language_info": {
   "codemirror_mode": {
    "name": "ipython",
    "version": 3
   },
   "file_extension": ".py",
   "mimetype": "text/x-python",
   "name": "python",
   "nbconvert_exporter": "python",
   "pygments_lexer": "ipython3",
   "version": "3.8.8"
  }
 },
 "nbformat": 4,
 "nbformat_minor": 5
}
